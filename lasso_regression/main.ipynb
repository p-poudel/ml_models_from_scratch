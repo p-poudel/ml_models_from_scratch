{
 "cells": [
  {
   "cell_type": "markdown",
   "id": "0b409219",
   "metadata": {},
   "source": [
    "# **Lasso Regression**\n",
    "\n",
    "1. Supervised Learning Model\n",
    "2. Regression Model\n",
    "3. Least Absolute Shrinkage and Selection Operator (LASSO)\n",
    "4. Implements Regularization (L1) to avoid Overfitting\n",
    "5. Built on Top of **Linear Regression**"
   ]
  },
  {
   "cell_type": "markdown",
   "id": "d21a4b7d",
   "metadata": {},
   "source": [
    "### Regularization\n",
    "\n",
    "Regularization is used to reduce the overfitting of the model by adding a penalty term $\\lambda$ to the model. Lasso Regression uses L1 regularization technique.\\\n",
    "The penalty term reduces the value of the coefficients or eliminate few coefficients, so that the model has fewer coefficients. As the result, overfitting can be avoided.\\\n",
    "The process is called as **Shrinkage**."
   ]
  },
  {
   "cell_type": "markdown",
   "id": "4160b361",
   "metadata": {},
   "source": [
    "### **Cost Function for Lasso Regression**:\n",
    "$$\n",
    "J = \\frac{1}{m}[\\displaystyle\\sum_{i=1}^m (Y_i - \\hat{Y_i})^2 + \\lambda \\displaystyle\\sum_{j=1}^n w_j]\n",
    "$$\n",
    "where,\\\n",
    "m --> Total number of data points\\\n",
    "n --> Total number of input features\\\n",
    "$Y_i$ --> True value\\\n",
    "$\\hat{Y_i}$ --> Predicted Value\\\n",
    "$\\lambda$ --> Penalty Term\\\n",
    "$w$ --> Weight Parameter of the model\n",
    "\n",
    "### Gradient Descent\n",
    "\n",
    "if ($w_j$ > 0):\n",
    "$$\n",
    "\\frac{\\delta J}{\\delta w} = \\frac{-2}{m} [[\\displaystyle\\sum_{i=1}^m x_j . (Y_i - \\hat{Y_i})] + \\lambda]\n",
    "$$\n",
    "else:\n",
    "$$\n",
    "\\frac{\\delta J}{\\delta w} = \\frac{-2}{m} [[\\displaystyle\\sum_{i=1}^m x_j . (Y_i - \\hat{Y_i})] - \\lambda]\n",
    "$$\n",
    "And,\n",
    "$$\n",
    "\\frac{\\delta J}{\\delta b} = \\frac{-2}{m} [\\displaystyle\\sum_{i=1}^m (Y_i - \\hat{Y_i})] \n",
    "$$"
   ]
  },
  {
   "cell_type": "code",
   "execution_count": 1,
   "id": "00ce7aab",
   "metadata": {},
   "outputs": [],
   "source": [
    "# importing the numpy library\n",
    "import numpy as np"
   ]
  },
  {
   "cell_type": "markdown",
   "id": "b5b41569",
   "metadata": {},
   "source": [
    "### **Lasso Regression Class**"
   ]
  },
  {
   "cell_type": "code",
   "execution_count": 2,
   "id": "cc1d5a67",
   "metadata": {},
   "outputs": [],
   "source": [
    "class Lasso_Regression():\n",
    "    # initializinf the hyperparameters\n",
    "    def __init__(self, learning_rate, no_of_iterations, lambda_parameter):\n",
    "        self.learning_rate = learning_rate\n",
    "        self.no_of_iteration = no_of_iterations\n",
    "        self.lambda_parameter = lambda_parameter\n",
    "\n",
    "    def fit(self,X,Y):\n",
    "        self.m, self.n = X.shape\n",
    "\n",
    "        #inititalizing the weights and bias\n",
    "        self.w = np.zeros(self.n)\n",
    "        self.b = 0\n",
    "\n",
    "        self.X = X\n",
    "        self.Y = Y\n",
    "\n",
    "        for i in range(self.no_of_iteration):\n",
    "            self.update_weights()\n",
    "    \n",
    "    def update_weights(self):\n",
    "        # linear equation of the model\n",
    "        Y_prediction = self.predict(self.X)\n",
    "\n",
    "        # gradients dw and db\n",
    "        dw = np.zeros(self.n)\n",
    "        for i in range(self.n):\n",
    "            if self.w[i] > 0:\n",
    "                dw[i] = (-(2*(self.X[:,i]).dot(self.Y - Y_prediction)) + self.lambda_parameter) / self.m\n",
    "            else:\n",
    "                dw[i] = (-(2*(self.X[:,i]).dot(self.Y - Y_prediction)) - self.lambda_parameter) / self.m\n",
    "        db = -(2*np.sum(self.Y - Y_prediction)) / self.m\n",
    "\n",
    "        # ypdating the weights and bias\n",
    "        self.w = self.w - self.learning_rate * dw\n",
    "        self.b = self.b - self.learning_rate * db\n",
    "\n",
    "    def predict(self,X):\n",
    "        Y_predict = np.dot(X,self.w) + self.b\n",
    "        return Y_predict"
   ]
  },
  {
   "cell_type": "code",
   "execution_count": 3,
   "id": "ac3f3b7a",
   "metadata": {},
   "outputs": [],
   "source": [
    "# importing the dependencies\n",
    "import pandas as pd\n",
    "from sklearn.model_selection import train_test_split\n",
    "import matplotlib.pyplot as plt"
   ]
  },
  {
   "cell_type": "markdown",
   "id": "0e4774ad",
   "metadata": {},
   "source": [
    "Data Preprocessing"
   ]
  },
  {
   "cell_type": "code",
   "execution_count": 4,
   "id": "bb04186a",
   "metadata": {},
   "outputs": [],
   "source": [
    "# loading the data from csv file into a pandas dataframe\n",
    "\n",
    "salary_data = pd.read_csv('salary_data.csv')"
   ]
  },
  {
   "cell_type": "code",
   "execution_count": 5,
   "id": "890384b2",
   "metadata": {},
   "outputs": [
    {
     "data": {
      "text/html": [
       "<div>\n",
       "<style scoped>\n",
       "    .dataframe tbody tr th:only-of-type {\n",
       "        vertical-align: middle;\n",
       "    }\n",
       "\n",
       "    .dataframe tbody tr th {\n",
       "        vertical-align: top;\n",
       "    }\n",
       "\n",
       "    .dataframe thead th {\n",
       "        text-align: right;\n",
       "    }\n",
       "</style>\n",
       "<table border=\"1\" class=\"dataframe\">\n",
       "  <thead>\n",
       "    <tr style=\"text-align: right;\">\n",
       "      <th></th>\n",
       "      <th>YearsExperience</th>\n",
       "      <th>Salary</th>\n",
       "    </tr>\n",
       "  </thead>\n",
       "  <tbody>\n",
       "    <tr>\n",
       "      <th>0</th>\n",
       "      <td>1.1</td>\n",
       "      <td>39343</td>\n",
       "    </tr>\n",
       "    <tr>\n",
       "      <th>1</th>\n",
       "      <td>1.3</td>\n",
       "      <td>46205</td>\n",
       "    </tr>\n",
       "    <tr>\n",
       "      <th>2</th>\n",
       "      <td>1.5</td>\n",
       "      <td>37731</td>\n",
       "    </tr>\n",
       "    <tr>\n",
       "      <th>3</th>\n",
       "      <td>2.0</td>\n",
       "      <td>43525</td>\n",
       "    </tr>\n",
       "    <tr>\n",
       "      <th>4</th>\n",
       "      <td>2.2</td>\n",
       "      <td>39891</td>\n",
       "    </tr>\n",
       "  </tbody>\n",
       "</table>\n",
       "</div>"
      ],
      "text/plain": [
       "   YearsExperience  Salary\n",
       "0              1.1   39343\n",
       "1              1.3   46205\n",
       "2              1.5   37731\n",
       "3              2.0   43525\n",
       "4              2.2   39891"
      ]
     },
     "execution_count": 5,
     "metadata": {},
     "output_type": "execute_result"
    }
   ],
   "source": [
    "# printing the first five rows of the dataset\n",
    "salary_data.head()"
   ]
  },
  {
   "cell_type": "code",
   "execution_count": 6,
   "id": "2640c13b",
   "metadata": {},
   "outputs": [
    {
     "data": {
      "text/plain": [
       "(30, 2)"
      ]
     },
     "execution_count": 6,
     "metadata": {},
     "output_type": "execute_result"
    }
   ],
   "source": [
    "# number of rows and columns in the dataset\n",
    "\n",
    "salary_data.shape"
   ]
  },
  {
   "cell_type": "code",
   "execution_count": 7,
   "id": "603cbf32",
   "metadata": {},
   "outputs": [
    {
     "data": {
      "text/plain": [
       "YearsExperience    0\n",
       "Salary             0\n",
       "dtype: int64"
      ]
     },
     "execution_count": 7,
     "metadata": {},
     "output_type": "execute_result"
    }
   ],
   "source": [
    "# checking for missing values\n",
    "salary_data.isnull().sum()"
   ]
  },
  {
   "cell_type": "markdown",
   "id": "b20fa9ad",
   "metadata": {},
   "source": [
    "Splitting the features and targets"
   ]
  },
  {
   "cell_type": "code",
   "execution_count": 8,
   "id": "e8f2d406",
   "metadata": {},
   "outputs": [],
   "source": [
    "X = salary_data.iloc[:,:-1].values\n",
    "Y = salary_data.iloc[:,1].values"
   ]
  },
  {
   "cell_type": "code",
   "execution_count": 9,
   "id": "b55a5148",
   "metadata": {},
   "outputs": [
    {
     "data": {
      "text/plain": [
       "array([[ 1.1],\n",
       "       [ 1.3],\n",
       "       [ 1.5],\n",
       "       [ 2. ],\n",
       "       [ 2.2],\n",
       "       [ 2.9],\n",
       "       [ 3. ],\n",
       "       [ 3.2],\n",
       "       [ 3.2],\n",
       "       [ 3.7],\n",
       "       [ 3.9],\n",
       "       [ 4. ],\n",
       "       [ 4. ],\n",
       "       [ 4.1],\n",
       "       [ 4.5],\n",
       "       [ 4.9],\n",
       "       [ 5.1],\n",
       "       [ 5.3],\n",
       "       [ 5.9],\n",
       "       [ 6. ],\n",
       "       [ 6.8],\n",
       "       [ 7.1],\n",
       "       [ 7.9],\n",
       "       [ 8.2],\n",
       "       [ 8.7],\n",
       "       [ 9. ],\n",
       "       [ 9.5],\n",
       "       [ 9.6],\n",
       "       [10.3],\n",
       "       [10.5]])"
      ]
     },
     "execution_count": 9,
     "metadata": {},
     "output_type": "execute_result"
    }
   ],
   "source": [
    "X"
   ]
  },
  {
   "cell_type": "code",
   "execution_count": 10,
   "id": "32167f69",
   "metadata": {},
   "outputs": [
    {
     "data": {
      "text/plain": [
       "array([ 39343,  46205,  37731,  43525,  39891,  56642,  60150,  54445,\n",
       "        64445,  57189,  63218,  55794,  56957,  57081,  61111,  67938,\n",
       "        66029,  83088,  81363,  93940,  91738,  98273, 101302, 113812,\n",
       "       109431, 105582, 116969, 112635, 122391, 121872])"
      ]
     },
     "execution_count": 10,
     "metadata": {},
     "output_type": "execute_result"
    }
   ],
   "source": [
    "Y"
   ]
  },
  {
   "cell_type": "code",
   "execution_count": 11,
   "id": "f27f8fc2",
   "metadata": {},
   "outputs": [],
   "source": [
    "X_train, X_test, Y_train, Y_test = train_test_split(X,Y, test_size=0.33, random_state=2)"
   ]
  },
  {
   "cell_type": "markdown",
   "id": "89a92d1e",
   "metadata": {},
   "source": [
    "Training the Lasso Regression Model"
   ]
  },
  {
   "cell_type": "code",
   "execution_count": 12,
   "id": "8e8ca34d",
   "metadata": {},
   "outputs": [],
   "source": [
    "model = Lasso_Regression(learning_rate=0.02, no_of_iterations=1000, lambda_parameter=0.01)"
   ]
  },
  {
   "cell_type": "code",
   "execution_count": 13,
   "id": "03481272",
   "metadata": {},
   "outputs": [],
   "source": [
    "model.fit(X_train,Y_train)"
   ]
  },
  {
   "cell_type": "code",
   "execution_count": 14,
   "id": "a3c34e44",
   "metadata": {},
   "outputs": [
    {
     "name": "stdout",
     "output_type": "stream",
     "text": [
      "weight =  [9514.40096808]\n",
      "bias =  23697.406686212293\n"
     ]
    }
   ],
   "source": [
    "# printing the parameter values ( weights and bias )\n",
    "print('weight = ', model.w)\n",
    "print('bias = ', model.b)"
   ]
  },
  {
   "cell_type": "markdown",
   "id": "db092f9e",
   "metadata": {},
   "source": [
    "Predict the salary value for test data"
   ]
  },
  {
   "cell_type": "code",
   "execution_count": 15,
   "id": "52c4ecab",
   "metadata": {},
   "outputs": [
    {
     "data": {
      "text/plain": [
       "array([ 36066.12794471,  34163.2477511 ,  66512.21104256,  58900.6902681 ,\n",
       "        91249.65355956,  80783.81249467, 101715.49462444,  52240.60959044,\n",
       "        42726.20862237,  88395.33326914])"
      ]
     },
     "execution_count": 15,
     "metadata": {},
     "output_type": "execute_result"
    }
   ],
   "source": [
    "test_data_prediction = model.predict(X_test)\n",
    "test_data_prediction"
   ]
  },
  {
   "cell_type": "markdown",
   "id": "facca09a",
   "metadata": {},
   "source": [
    "Visualizing the Predicted Values and Actual Value"
   ]
  },
  {
   "cell_type": "code",
   "execution_count": 16,
   "id": "8162e720",
   "metadata": {},
   "outputs": [
    {
     "data": {
      "image/png": "[encoded data removed]",
      "text/plain": [
       "<Figure size 640x480 with 1 Axes>"
      ]
     },
     "metadata": {},
     "output_type": "display_data"
    }
   ],
   "source": [
    "plt.scatter(X_test,Y_test, color = 'red')\n",
    "plt.plot(X_test, test_data_prediction, color = 'blue')\n",
    "plt.scatter(X_test, test_data_prediction, color = 'black')\n",
    "plt.xlabel('Work Experience')\n",
    "plt.ylabel('Salary')\n",
    "plt.title('Salary V/S Experience')\n",
    "plt.show()"
   ]
  }
 ],
 "metadata": {
  "kernelspec": {
   "display_name": ".venv",
   "language": "python",
   "name": "python3"
  },
  "language_info": {
   "codemirror_mode": {
    "name": "ipython",
    "version": 3
   },
   "file_extension": ".py",
   "mimetype": "text/x-python",
   "name": "python",
   "nbconvert_exporter": "python",
   "pygments_lexer": "ipython3",
   "version": "3.13.6"
  }
 },
 "nbformat": 4,
 "nbformat_minor": 5
}
